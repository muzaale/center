{
 "cells": [
  {
   "cell_type": "markdown",
   "metadata": {},
   "source": [
    "# Accessibility\n",
    "\n",
    "- Repos\n",
    "   - Public\n",
    "     - Accessible to anyone by URL\n",
    "     - But only the owners of the repo can edit it\n",
    "     - However, you can clone the repo and edit the clone\n",
    "   - Private\n",
    "    - Only accessible to invited [collaborators](https://github.com/muzaale/center/settings)\n",
    "    - You can control the \"privileges\" the collaborator has"
   ]
  }
 ],
 "metadata": {
  "kernelspec": {
   "display_name": "Python 3",
   "language": "python",
   "name": "python3"
  },
  "language_info": {
   "codemirror_mode": {
    "name": "ipython",
    "version": 3
   },
   "file_extension": ".py",
   "mimetype": "text/x-python",
   "name": "python",
   "nbconvert_exporter": "python",
   "pygments_lexer": "ipython3",
   "version": "3.11.2"
  },
  "widgets": {
   "application/vnd.jupyter.widget-state+json": {
    "state": {},
    "version_major": 2,
    "version_minor": 0
   }
  }
 },
 "nbformat": 4,
 "nbformat_minor": 4
}